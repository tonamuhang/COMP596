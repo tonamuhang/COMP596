{
  "nbformat": 4,
  "nbformat_minor": 0,
  "metadata": {
    "colab": {
      "name": "NL2DS-Assignment-1.ipynb",
      "provenance": [],
      "collapsed_sections": [],
      "include_colab_link": true
    },
    "kernelspec": {
      "name": "python3",
      "display_name": "Python 3"
    }
  },
  "cells": [
    {
      "cell_type": "markdown",
      "metadata": {
        "id": "view-in-github",
        "colab_type": "text"
      },
      "source": [
        "<a href=\"https://colab.research.google.com/github/tonamuhang/COMP596/blob/master/NL2DS_Assignment_1.ipynb\" target=\"_parent\"><img src=\"https://colab.research.google.com/assets/colab-badge.svg\" alt=\"Open In Colab\"/></a>"
      ]
    },
    {
      "cell_type": "markdown",
      "metadata": {
        "id": "2FuO82RTBftK",
        "colab_type": "text"
      },
      "source": [
        "Go to https://drive.google.com/drive/folders/1Pe6D713L9S0GWwb_XzeLXAeNZOrBqZaN?usp=sharing and click add shortcut to drive. This will add the data required for this assignment to your Google drive.\n",
        "\n",
        "<img src=\"https://drive.google.com/uc?id=1LqHisiziX8Ri94Xs6Cv8mhx6vivFM3kS\" alt=\"Drawing\" height=\"300\"/>\n",
        "\n",
        "Caution: Since this is real language on Twitter and deals with current events, some of it could be disturbing. In the later section of the course, we will deal with ethics and what is appropriate and what is not. \n",
        "\n",
        "First, let's read the tweets from the Google drive and print a few lines from the file.\n",
        "\n"
      ]
    },
    {
      "cell_type": "markdown",
      "metadata": {
        "id": "UtZEcHthBeXz",
        "colab_type": "text"
      },
      "source": [
        "Run the below code snippet. It will generate a URL which generates an authorization code. Enter it below to give Colab access to your Google drive."
      ]
    },
    {
      "cell_type": "code",
      "metadata": {
        "id": "KW-dce7oJlyr",
        "colab_type": "code",
        "colab": {
          "base_uri": "https://localhost:8080/",
          "height": 124
        },
        "outputId": "d47f1f38-f1ef-4266-e655-4d708bb1afdf"
      },
      "source": [
        "from google.colab import drive\n",
        "drive.mount('/content/drive/')"
      ],
      "execution_count": null,
      "outputs": [
        {
          "output_type": "stream",
          "text": [
            "Go to this URL in a browser: https://accounts.google.com/o/oauth2/auth?client_id=947318989803-6bn6qk8qdgf4n4g3pfee6491hc0brc4i.apps.googleusercontent.com&redirect_uri=urn%3aietf%3awg%3aoauth%3a2.0%3aoob&scope=email%20https%3a%2f%2fwww.googleapis.com%2fauth%2fdocs.test%20https%3a%2f%2fwww.googleapis.com%2fauth%2fdrive%20https%3a%2f%2fwww.googleapis.com%2fauth%2fdrive.photos.readonly%20https%3a%2f%2fwww.googleapis.com%2fauth%2fpeopleapi.readonly&response_type=code\n",
            "\n",
            "Enter your authorization code:\n",
            "··········\n",
            "Mounted at /content/drive/\n"
          ],
          "name": "stdout"
        }
      ]
    },
    {
      "cell_type": "markdown",
      "metadata": {
        "id": "Ni2pYuuQKaHY",
        "colab_type": "text"
      },
      "source": [
        "When you run the `ls` command below, you should see the files in the tweets folder.\n",
        "\n",
        "\n"
      ]
    },
    {
      "cell_type": "code",
      "metadata": {
        "id": "zYENtyc7SOxA",
        "colab_type": "code",
        "colab": {
          "base_uri": "https://localhost:8080/",
          "height": 35
        },
        "outputId": "08628791-e9e3-4062-9379-03e92859a45d"
      },
      "source": [
        "!ls \"/content/drive/My Drive/tweets\""
      ],
      "execution_count": null,
      "outputs": [
        {
          "output_type": "stream",
          "text": [
            "20000_tweets.jsonl\n"
          ],
          "name": "stdout"
        }
      ]
    },
    {
      "cell_type": "markdown",
      "metadata": {
        "id": "vEvB8AMiqeNh",
        "colab_type": "text"
      },
      "source": [
        "Let's read the top 10 tweets from the file and print them."
      ]
    },
    {
      "cell_type": "code",
      "metadata": {
        "id": "gZMOmElPSPHk",
        "colab_type": "code",
        "colab": {
          "base_uri": "https://localhost:8080/",
          "height": 728
        },
        "outputId": "d98c07a9-02cb-42d4-c9c3-08ab095a2cfd"
      },
      "source": [
        "# Let's load the tweets file now\n",
        "import json\n",
        "\n",
        "# let's read the top tweets that are in English and print thier text.\n",
        "f = open(\"/content/drive/My Drive/tweets/20000_tweets.jsonl\", \"r\")\n",
        "\n",
        "line_count = 0\n",
        "top_tweets = []\n",
        "for line in f:\n",
        "  # each line is a json object. Parse it and load it in memory.\n",
        "  tweet = json.loads(line) \n",
        "  print(\"### Tweet start\", line_count, \"#####\")\n",
        "  print(tweet[4]) # 5th column is the tweet's text. Other represent metadata.\n",
        "  print(\"### end #####\\n\")\n",
        "  top_tweets.append(tweet[4])\n",
        "  line_count += 1\n",
        "  if line_count >= 10:\n",
        "    break\n",
        "f.close()"
      ],
      "execution_count": null,
      "outputs": [
        {
          "output_type": "stream",
          "text": [
            "### Tweet start 0 #####\n",
            "Covid-19 Economic Response: Cancel Student Loans by Executive Order. - Sign the Petition! https://t.co/BnPXWHv5cr via @Change\n",
            "### end #####\n",
            "\n",
            "### Tweet start 1 #####\n",
            "Hey! The stock markets up! Fuck Trump and the Trumpublican Senate! https://t.co/4t6mgbaG2C\n",
            "### end #####\n",
            "\n",
            "### Tweet start 2 #####\n",
            "@ProjectLincoln blame Trump for no sports because of Covid19 @MeidasTouch\n",
            "### end #####\n",
            "\n",
            "### Tweet start 3 #####\n",
            "Do u guys think that reopening of the dinning in the restaurants of Lahore will bring any change in our lives? Nothing is going to change I think cause many people have learned cooking, painting and many new stuff during lockdown and I think we all will continue those things 1/2\n",
            "### end #####\n",
            "\n",
            "### Tweet start 4 #####\n",
            "@NBCSAthletics Ya just knew the season wouldn’t go by without some bench clearing brawls... Covid or not. Behaviors can’t be changed because of rules, sadly\n",
            "### end #####\n",
            "\n",
            "### Tweet start 5 #####\n",
            "You’re comparing apples and oranges. The NCAA has a lot more to balance than the NFL. https://t.co/oeMsbgeem7\n",
            "### end #####\n",
            "\n",
            "### Tweet start 6 #####\n",
            "THANK YOU @POTUS Absolutely NO MONEY/NO BAILOUTS for Irresponsibly Run Democrat Cities...#NoBailouts https://t.co/bWLELcCutV\n",
            "### end #####\n",
            "\n",
            "### Tweet start 7 #####\n",
            "#Texas #USA #NorthAmerica Cases: 509,539 (+21) Death: 8,583 Recovered: 344,845 Critical: 1,754 New %: 0.3% Death %: 1.7% Population %: 1.8% #CoronaVirus #Covid19 #SarsCov2 #Forecast https://t.co/yHbd9gl1uz https://t.co/sRulRFOeUx\n",
            "### end #####\n",
            "\n",
            "### Tweet start 8 #####\n",
            "New Zealand celebrated their 100th day without COVID today. A society that works together for the common good: that's what actual freedom looks like. https://t.co/7qppin3QRM\n",
            "### end #####\n",
            "\n",
            "### Tweet start 9 #####\n",
            "It’s going to be screen time all the time for kindergartners and graduate students alike. Teachers are threatening strikes. And students are already coming home infected with the coronavirus, which has upended American education. https://t.co/O3eT06wmrU\n",
            "### end #####\n",
            "\n"
          ],
          "name": "stdout"
        }
      ]
    },
    {
      "cell_type": "markdown",
      "metadata": {
        "id": "7r-IHJ3KU27N",
        "colab_type": "text"
      },
      "source": [
        "# **Problem 1: Word Tokenizer**\n",
        "\n",
        "Implement your own tokenizer for tweets without using libraries like `nltk`, `spacy` or any existing tokenizers. Tokenizer is a fundamental tool for processing any text data. The tokenizer should preserve punctuations.\n",
        "\n",
        "The outputs for the top five tweets should approximately be as follows (it's fine to not exactly match this output)\n",
        "\n",
        "```\n",
        "['Covid-19', 'Economic', 'Response', ':', 'Cancel', 'Student', 'Loans', 'by', 'Executive', 'Order', '.', '-', 'Sign', 'the', 'Petition', '!', 'https://t.co/BnPXWHv5cr', 'via', '@Change']\n",
        "['Hey', '!', 'The', 'stock', 'markets', 'up', '!', 'Fuck', 'Trump', 'and', 'the', 'Trumpublican', 'Senate', '!', 'https://t.co/4t6mgbaG2C']\n",
        "['@ProjectLincoln', 'blame', 'Trump', 'for', 'no', 'sports', 'because', 'of', 'Covid19', '@MeidasTouch']\n",
        "['Do', 'u', 'guys', 'think', 'that', 'reopening', 'of', 'the', 'dinning', 'in', 'the', 'restaurants', 'of', 'Lahore', 'will', 'bring', 'any', 'change', 'in', 'our', 'lives', '?', 'Nothing', 'is', 'going', 'to', 'change', 'I', 'think', 'cause', 'many', 'people', 'have', 'learned', 'cooking', ',', 'painting', 'and', 'many', 'new', 'stuff', 'during', 'lockdown', 'and', 'I', 'think', 'we', 'all', 'will', 'continue', 'those', 'things', '1/2']\n",
        "['@NBCSAthletics', 'Ya', 'just', 'knew', 'the', 'season', 'would', 'n’t', 'go', 'by', 'without', 'some', 'bench', 'clearing', 'brawls', '...', 'Covid', 'or', 'not', '.', 'Behaviors', 'ca', 'n’t', 'be', 'changed', 'because', 'of', 'rules', ',', 'sadly']\n",
        "```\n",
        "\n",
        "A thing to note is that words like `wouldn't` and `you'll` become two tokens `would n't` and `you 'll`, after tokenization. Treating `'nt` and  `'ll` as independent tokens is common in NLP tools. You can come up with that kind of list easily, e.g., `'s, 've`.\n"
      ]
    },
    {
      "cell_type": "code",
      "metadata": {
        "id": "0Y-oKzw7OHOX",
        "colab_type": "code",
        "colab": {}
      },
      "source": [
        "# import any relevant libraries here\n",
        "\n",
        "\n",
        "# a function to tokenize text into words\n",
        "def tokenize(text):\n",
        "  # FILL ME\n",
        "  return words\n",
        "\n",
        "tokenized_top_tweets = [tokenize(tweet) for tweet in top_tweets]\n",
        "for tokenized_tweet in tokenized_top_tweets:\n",
        "  print(tokenized_tweet)"
      ],
      "execution_count": null,
      "outputs": []
    },
    {
      "cell_type": "markdown",
      "metadata": {
        "id": "KEmNfrQqKoMY",
        "colab_type": "text"
      },
      "source": [
        "# Problem 2: Post-process the tokenized tweets\n",
        "\n",
        "Clean the tokenized tweets such that usernames are repalced with `@USER`, URLs are replaced with `URL`, punctuations are removed and words are lower-cased.\n",
        "\n",
        "The output for the top ten tweets after cleaning should look something like this\n",
        "\n",
        "```\n",
        "['covid-19', 'economic', 'response', 'cancel', 'student', 'loans', 'by', 'executive', 'order', 'sign', 'the', 'petition', 'URL', 'via', '@USER']\n",
        "['hey', 'the', 'stock', 'markets', 'up', 'fuck', 'trump', 'and', 'the', 'trumpublican', 'senate', 'URL']\n",
        "['@USER', 'blame', 'trump', 'for', 'no', 'sports', 'because', 'of', 'covid19', '@USER']\n",
        "['do', 'u', 'guys', 'think', 'that', 'reopening', 'of', 'the', 'dinning', 'in', 'the', 'restaurants', 'of', 'lahore', 'will', 'bring', 'any', 'change', 'in', 'our', 'lives', 'nothing', 'is', 'going', 'to', 'change', 'i', 'think', 'cause', 'many', 'people', 'have', 'learned', 'cooking', 'painting', 'and', 'many', 'new', 'stuff', 'during', 'lockdown', 'and', 'i', 'think', 'we', 'all', 'will', 'continue', 'those', 'things', '1/2']\n",
        "['@USER', 'ya', 'just', 'knew', 'the', 'season', 'would', 'n’t', 'go', 'by', 'without', 'some', 'bench', 'clearing', 'brawls', 'covid', 'or', 'not', 'behaviors', 'ca', 'n’t', 'be', 'changed', 'because', 'of', 'rules', 'sadly']\n",
        "```"
      ]
    },
    {
      "cell_type": "markdown",
      "metadata": {
        "id": "jN_QSZ6paBpR",
        "colab_type": "text"
      },
      "source": [
        ""
      ]
    },
    {
      "cell_type": "code",
      "metadata": {
        "id": "EMWFqI9KbDnY",
        "colab_type": "code",
        "colab": {}
      },
      "source": [
        "# import relevant packages\n",
        "\n",
        "# function to clean a tweet\n",
        "def clean_a_tweet(tokenized_tweet):\n",
        "  # FILL ME\n",
        "  return(clean_tokenized_tweet)\n",
        "\n",
        "anonymized_top_tweets = [clean_a_tweet(tokenized_tweet) for tokenized_tweet in tokenized_top_tweets]\n",
        "for tokenized_tweet in anonymized_top_tweets:\n",
        "  print(tokenized_tweet)"
      ],
      "execution_count": null,
      "outputs": []
    },
    {
      "cell_type": "markdown",
      "metadata": {
        "id": "JVkL6n6jU1LU",
        "colab_type": "text"
      },
      "source": [
        "# Problem 3: Unigrams and Bigrams\n",
        "\n",
        "Read **all** tweets from the file `20000_tweets.jsonl` and print the top 10 unigrams and bigrams. Consider only the English tweets. You have to use `tokenize` and `clean_a_tweet` function.\n",
        "\n",
        "Output format\n",
        "\n",
        "```\n",
        "Top 10 Unigrams\n",
        "@USER\t16698\n",
        "the\t16666\n",
        "URL\t12610\n",
        "to\t11866\n",
        "a\t9845\n",
        "....\n",
        "....\n",
        "....\n",
        "....\n",
        "....\n",
        "\n",
        "Top 10 Bigrams\n",
        "@USER @USER\t7494\n",
        "in the\t1280\n",
        "of the\t1265\n",
        "it ’s\t860\n",
        "a mask\t793\n",
        "....\n",
        "....\n",
        "....\n",
        "....\n",
        "....\n",
        "```\n",
        "\n",
        "Your numbers need not match the above word frequencies. Depending on your tokenizer, you may get different numbers"
      ]
    },
    {
      "cell_type": "code",
      "metadata": {
        "id": "DQs6Th7AlTtb",
        "colab_type": "code",
        "colab": {}
      },
      "source": [
        "# Write your code to build top 10 unigrams and bigrams\n",
        "# Hint: You can use python dictionary or collections.Counter().\n",
        "\n",
        "\n"
      ],
      "execution_count": null,
      "outputs": []
    },
    {
      "cell_type": "markdown",
      "metadata": {
        "id": "2Q-FpH2k7akG",
        "colab_type": "text"
      },
      "source": [
        "# Problem 4: How frequent are the following unigrams and bigrams?\n",
        "\n",
        "```\n",
        "covid\n",
        "coronavirus\n",
        "republicans\n",
        "democrats\n",
        "social distancing\n",
        "dry cough\n",
        "donald trump\n",
        "joe biden\n",
        "```\n",
        "\n",
        "Output:\n",
        "```\n",
        "covid\t4437\n",
        "coronavirus\t1368\n",
        "...\n",
        "...\n",
        "social distancing\t568\n",
        "wear mask\t19\n",
        "...\n",
        "...\n",
        "...\n",
        "```\n"
      ]
    },
    {
      "cell_type": "code",
      "metadata": {
        "id": "11Jcaf1T9mHU",
        "colab_type": "code",
        "colab": {}
      },
      "source": [
        "# Write your code to print the frequencies of the above unigrams and bigrams\n",
        "# Hint: reuse the dictionaries you built in the previous cell\n"
      ],
      "execution_count": null,
      "outputs": []
    }
  ]
}